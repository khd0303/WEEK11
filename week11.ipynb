{
  "nbformat": 4,
  "nbformat_minor": 0,
  "metadata": {
    "colab": {
      "provenance": [],
      "authorship_tag": "ABX9TyMJ1zZLIGmoKjbGpy4Wvq4e",
      "include_colab_link": true
    },
    "kernelspec": {
      "name": "python3",
      "display_name": "Python 3"
    },
    "language_info": {
      "name": "python"
    }
  },
  "cells": [
    {
      "cell_type": "markdown",
      "metadata": {
        "id": "view-in-github",
        "colab_type": "text"
      },
      "source": [
        "<a href=\"https://colab.research.google.com/github/khd0303/WEEK11/blob/main/week11.ipynb\" target=\"_parent\"><img src=\"https://colab.research.google.com/assets/colab-badge.svg\" alt=\"Open In Colab\"/></a>"
      ]
    },
    {
      "cell_type": "code",
      "source": [
        "#lab 9-1\n",
        "#1\n",
        "#a  100\n",
        "#b  20000\n",
        "#c  2.0\n",
        "'''\n",
        "a = (200).__truediv__(100)\n",
        "\n",
        "print(a)\n",
        "'''\n",
        "\n",
        "\n",
        "#2 \n",
        "#40\n",
        "\n",
        "#[10,20,30,40].pop()\n",
        "\n",
        "\n",
        "#3\n",
        "\n",
        "#keys()\n",
        "\n",
        "\n",
        "#4\n",
        "#dir(int)\n",
        "\n",
        "'''\n",
        "['__abs__',\n",
        " '__add__',\n",
        " '__and__',\n",
        " '__bool__',\n",
        " '__ceil__',\n",
        " '__class__',\n",
        " '__delattr__',\n",
        " '__dir__',\n",
        " '__divmod__',\n",
        " '__doc__',\n",
        " '__eq__',\n",
        " '__float__',\n",
        " '__floor__',\n",
        " '__floordiv__',\n",
        " '__format__',\n",
        " '__ge__',\n",
        " '__getattribute__',\n",
        " '__getnewargs__',\n",
        " '__gt__',\n",
        " '__hash__',\n",
        " '__index__',\n",
        " '__init__',\n",
        " '__init_subclass__',\n",
        " '__int__',\n",
        " '__invert__',\n",
        " '__le__',\n",
        " '__lshift__',\n",
        " '__lt__',\n",
        " '__mod__',\n",
        " '__mul__',\n",
        " '__ne__',\n",
        " '__neg__',\n",
        " '__new__',\n",
        " '__or__',\n",
        " '__pos__',\n",
        " '__pow__',\n",
        " '__radd__',\n",
        " '__rand__',\n",
        " '__rdivmod__',\n",
        " '__reduce__',\n",
        " '__reduce_ex__',\n",
        " '__repr__',\n",
        " '__rfloordiv__',\n",
        " '__rlshift__',\n",
        " '__rmod__',\n",
        " '__rmul__',\n",
        " '__ror__',\n",
        " '__round__',\n",
        " '__rpow__',\n",
        " '__rrshift__',\n",
        " '__rshift__',\n",
        " '__rsub__',\n",
        " '__rtruediv__',\n",
        " '__rxor__',\n",
        " '__setattr__',\n",
        " '__sizeof__',\n",
        " '__str__',\n",
        " '__sub__',\n",
        " '__subclasshook__',\n",
        " '__truediv__',\n",
        " '__trunc__',\n",
        " '__xor__',\n",
        " 'bit_length',\n",
        " 'conjugate',\n",
        " 'denominator',\n",
        " 'from_bytes',\n",
        " 'imag',\n",
        " 'numerator',\n",
        " 'real',\n",
        " 'to_bytes']\n",
        "\n",
        "'''\n",
        "\n",
        "\n",
        "#5\n",
        "\n",
        "#dir(list)\n",
        "\n",
        "'''\n",
        "['__add__',\n",
        " '__class__',\n",
        " '__contains__',\n",
        " '__delattr__',\n",
        " '__delitem__',\n",
        " '__dir__',\n",
        " '__doc__',\n",
        " '__eq__',\n",
        " '__format__',\n",
        " '__ge__',\n",
        " '__getattribute__',\n",
        " '__getitem__',\n",
        " '__gt__',\n",
        " '__hash__',\n",
        " '__iadd__',\n",
        " '__imul__',\n",
        " '__init__',\n",
        " '__init_subclass__',\n",
        " '__iter__',\n",
        " '__le__',\n",
        " '__len__',\n",
        " '__lt__',\n",
        " '__mul__',\n",
        " '__ne__',\n",
        " '__new__',\n",
        " '__reduce__',\n",
        " '__reduce_ex__',\n",
        " '__repr__',\n",
        " '__reversed__',\n",
        " '__rmul__',\n",
        " '__setattr__',\n",
        " '__setitem__',\n",
        " '__sizeof__',\n",
        " '__str__',\n",
        " '__subclasshook__',\n",
        " 'append',\n",
        " 'clear',\n",
        " 'copy',\n",
        " 'count',\n",
        " 'extend',\n",
        " 'index',\n",
        " 'insert',\n",
        " 'pop',\n",
        " 'remove',\n",
        " 'reverse',\n",
        " 'sort']\n",
        "'''"
      ],
      "metadata": {
        "id": "q2UI7M9n_C6a"
      },
      "execution_count": null,
      "outputs": []
    },
    {
      "cell_type": "code",
      "source": [
        "#lab 9-2\n",
        "\n",
        "#1\n",
        "\n",
        "#a 객체지향 프로그래밍 : 프로그램을 짤 때, 프로그램을 실제 세상에 가깝게 모델링 하는 기법\n",
        "#b 절차지향 프로그래밍 : 함수나 모듈을 만들어두고 이것들을 문제해결 순서에 맞게 호출하여 수행 하는 기법\n",
        "#c GUI : 그래픽 사용자 인터페이스는 사용자가 편리하게 사용할 수 있도록 입출력 등의 기능을 알기 쉬운 아이콘 따위의 그래픽으로 나타낸 것\n",
        "\n",
        "\n",
        "#2 객체지향 vs 절차지향\n",
        "#객체지향 프로그래밍은 클래스를 만들어서 클래스 끼리 상호작용하는 관계를 만들수 있기에 절차지향 프로그래밍에 비해서 대규모 프로젝트에 유리하다\n",
        "\n",
        "\n",
        "\n",
        "#lab 9-3\n",
        "\n",
        "#1\n",
        "#a 클래스         : 프로그램 상에서 사용되는 속성과 행위를 모아놓은 집합체\n",
        "#b 객체           : 컴퓨터 시스템에서 다양한 기능을 수행하도록 속성과 메소드를 가진 요소\n",
        "#c 인스턴스       : 클래스로부터 만들어지는 각각의 개별적인 개체\n",
        "#d 클래스의 속성  : 클래스 내부의 메소드 단계와 동일한 영역에 위치한 변수\n",
        "#e 클래스의 동작  : 클래스가 할수 있는 동작"
      ],
      "metadata": {
        "id": "7R1YEYZjAA8r"
      },
      "execution_count": null,
      "outputs": []
    },
    {
      "cell_type": "code",
      "source": [
        "#lab 9-4\n",
        "\n",
        "#1\n",
        "\n",
        "class Dog:\n",
        "  def bark(self):\n",
        "    print(\"멍멍~~\")\n",
        "\n",
        "my_dog = Dog()\n",
        "my_dog.bark()"
      ],
      "metadata": {
        "id": "XNi9eiPqG-7r"
      },
      "execution_count": null,
      "outputs": []
    },
    {
      "cell_type": "code",
      "source": [
        "#lab 9-5\n",
        "class Dog:\n",
        "  def __init__(self,name):\n",
        "    self.name = name\n",
        "  def bark(self):\n",
        "    print(\"멍멍~~\")\n",
        "\n",
        "my_dog = Dog('Jindo')\n",
        "my_dog.bark()"
      ],
      "metadata": {
        "id": "YDJCSvOfH9tS"
      },
      "execution_count": null,
      "outputs": []
    },
    {
      "cell_type": "code",
      "source": [
        "#lab 9-6\n",
        "class Dog:\n",
        "  def __init__(self,name):\n",
        "    self.name = name\n",
        "  def __str__(self):\n",
        "    return 'my_dog의 정보 : Dog(name = '+self.name+')'  \n",
        "  def bark(self):\n",
        "    print(\"멍멍~~\")\n",
        "\n",
        "my_dog = Dog('Jindo')\n",
        "print(my_dog)\n"
      ],
      "metadata": {
        "id": "eJhHDqzBKSsr",
        "colab": {
          "base_uri": "https://localhost:8080/"
        },
        "outputId": "63b7a3bc-f716-4150-e29b-3df26416bff9"
      },
      "execution_count": null,
      "outputs": [
        {
          "output_type": "stream",
          "name": "stdout",
          "text": [
            "my_dog의 정보 : Dog(name = Jindo)\n"
          ]
        }
      ]
    },
    {
      "cell_type": "code",
      "source": [
        "#lab 9-7\n",
        "\n",
        "#1\n",
        "\n",
        "n = 100\n",
        "m = 100\n",
        "if n is m:\n",
        "  print('n is m')\n",
        "else:\n",
        "  print('n is not m') \n",
        "\n",
        "\n",
        "\n",
        "#n is m   "
      ],
      "metadata": {
        "colab": {
          "base_uri": "https://localhost:8080/"
        },
        "id": "AurvCaJiNHFD",
        "outputId": "4665a173-f94a-4f31-a810-886d5b6ee4a5"
      },
      "execution_count": null,
      "outputs": [
        {
          "output_type": "stream",
          "name": "stdout",
          "text": [
            "n is m\n"
          ]
        }
      ]
    },
    {
      "cell_type": "code",
      "source": [
        "#lab 9.8\n",
        "\n",
        "#1\n",
        "'''\n",
        "class Vector2D:\n",
        "  def __init__(self,x,y):\n",
        "    self.x = x\n",
        "    self.y = y\n",
        "\n",
        "\n",
        "  def __add__(self,other):\n",
        "    return Vector2D(self.x + other.x, self.y + other.y)\n",
        "  def __mul__(self,other):\n",
        "    return Vector2D(self.x * other.x, self.y * other.y)\n",
        "  def __truediv__(self,other):\n",
        "    return Vector2D(self.x / other.x, self.y / other.y)    \n",
        "  def __str__(self):\n",
        "    return \"({},{})\".format(self.x,self.y)\n",
        "v1 = Vector2D(30,40)\n",
        "v2 = Vector2D(10,20)\n",
        "#print(v1,v2)    \n",
        "v3 = v1*v2\n",
        "v4 = v1/v2\n",
        "print('v1 * v2 =', v3)\n",
        "print('v1 / v2 =', v4)\n",
        "'''\n",
        "\n",
        "\n",
        "#2\n",
        "\n",
        "class Vector2D:\n",
        "  def __init__(self,x,y):\n",
        "    self.x = x\n",
        "    self.y = y\n",
        "  def __str__(self):\n",
        "    return \"({},{})\".format(self.x,self.y)  \n",
        "  def __neg__(self):\n",
        "    return Vector2D(-self.x, -self.y)  \n",
        "v1 = Vector2D(10,20)\n",
        "\n",
        "v2 = -v1\n",
        "\n",
        "print('-v1 =',v2)    \n",
        "\n",
        "\n",
        "\n",
        "\n"
      ],
      "metadata": {
        "id": "ugABXe3MTEYz"
      },
      "execution_count": null,
      "outputs": []
    },
    {
      "cell_type": "code",
      "source": [
        "#lab 9-9\n",
        "\n",
        "\n",
        "class Vector2D:\n",
        "  def __init__(self,x,y):\n",
        "    self.x = x\n",
        "    self.y = y\n",
        "\n",
        "\n",
        " # def __eq__(self,other):\n",
        "  #  return (self.x  +other.x == self.y + other.y)\n",
        "  \n",
        "  def __lt__(self,other):\n",
        "    return ((self.x **2 + self.y ** 2) **(0.5)< (other.x **2+ other.y**2) **(0.5))\n",
        "  \n",
        "  def __le__(self,other):\n",
        "    return ((self.x **2 + self.y ** 2) **(0.5)<= (other.x **2+ other.y**2) **(0.5))\n",
        "  def __ge__(self,other):\n",
        "     return ((self.x **2 + self.y ** 2) **(0.5)>= (other.x **2+ other.y**2) **(0.5))    \n",
        "  def __gt__(self,other):\n",
        "     return ((self.x **2 + self.y ** 2) **(0.5)> (other.x **2+ other.y**2) **(0.5))    \n",
        "\n",
        "  def __str__(self):\n",
        "    return \"({},{})\".format(self.x,self.y)\n",
        "\n",
        "\n",
        "v1 = Vector2D(30,40)\n",
        "v2 = Vector2D(10,20)\n",
        "\n",
        "v3 = v1 > v2\n",
        "v4 = v1 >= v2\n",
        "v5 = v1 < v2\n",
        "v6 = v1 <= v2\n",
        "\n",
        "print('v1 > v2 =', v3)\n",
        "print('v1 >= v2', v4)\n",
        "print('v1 < v2', v5)\n",
        "print('v1 <= v2', v6)\n"
      ],
      "metadata": {
        "colab": {
          "base_uri": "https://localhost:8080/"
        },
        "id": "f7ScPfSlXf3w",
        "outputId": "f442d987-7a4d-4e6f-aeaf-1e33cadcaf2c"
      },
      "execution_count": null,
      "outputs": [
        {
          "output_type": "stream",
          "name": "stdout",
          "text": [
            "v1 > v2 = True\n",
            "v1 >= v2 True\n",
            "v1 < v2 False\n",
            "v1 <= v2 False\n"
          ]
        }
      ]
    },
    {
      "cell_type": "code",
      "source": [
        "#lab 9.10\n",
        "'''\n",
        "#1\n",
        "class Rect:\n",
        "  def __init__(self,width,height):\n",
        "    self.width = width\n",
        "    self.height = height\n",
        "r1 = Rect(100,200)\n",
        "print(r1.__dict__)\n",
        "\n",
        "print(r1.__dict__['width'])    \n",
        "\n",
        "#{'width': 100, 'height': 200}\n",
        "#100\n",
        "'''\n",
        "#2\n",
        "class Rect:\n",
        "  def __init__(self,width,height):\n",
        "    self.__width = width\n",
        "    self.__height = height\n",
        "r1 = Rect(100,200)\n",
        "\n",
        "print(r1.__dict__)\n",
        "print(r1.__dict__['_Rect__width'])    \n",
        "\n",
        "#{'_Rect__width': 100, '_Rect__height': 200}\n",
        "#100"
      ],
      "metadata": {
        "colab": {
          "base_uri": "https://localhost:8080/"
        },
        "id": "t1C5aRYMXegq",
        "outputId": "611d787b-fe95-4f84-f8ef-87d999c9f4d4"
      },
      "execution_count": null,
      "outputs": [
        {
          "output_type": "stream",
          "name": "stdout",
          "text": [
            "{'_Rect__width': 100, '_Rect__height': 200}\n",
            "100\n"
          ]
        }
      ]
    },
    {
      "cell_type": "code",
      "source": [
        "#EX1\n",
        "\n",
        "class dog:\n",
        "  def __init__(self,name,age):\n",
        "    self.name = name\n",
        "    self.age = str(age)\n",
        "  def __str__(self):  \n",
        "    return '이름은'+ self.name +' 이고, 나이는 '+ self.age +'살 입니다'\n",
        "\n",
        "my_dog = dog('Mango',3)\n",
        "print(my_dog)"
      ],
      "metadata": {
        "id": "OJD7cKtQWs_T",
        "colab": {
          "base_uri": "https://localhost:8080/"
        },
        "outputId": "7e36365e-d163-4262-b3b8-8ecad72cec03"
      },
      "execution_count": null,
      "outputs": [
        {
          "output_type": "stream",
          "name": "stdout",
          "text": [
            "이름은Mango이고, 나이는 3살 입니다\n"
          ]
        }
      ]
    },
    {
      "cell_type": "code",
      "source": [
        "#EX2\n",
        "\n",
        "class Counter:\n",
        "  def __init__(self,number = 0):\n",
        "    self.number = number\n",
        "  def inc(self):\n",
        "    self.number = self.number + 1\n",
        "    if self.number >= 100:\n",
        "      self.number = 0\n",
        "  def dec(self):\n",
        "    self.number -=1\n",
        "    if self.number <= -1:\n",
        "      self.number = 0      \n",
        "  def __str__(self):\n",
        "    return 'C('+str(self.number)+')'\n",
        "  def __add__(self,other):\n",
        "    result = self.number + other.number\n",
        "    if result >= 100:\n",
        "      result = 0\n",
        "    return 'C('+str(result)+')'\n",
        "  def __sub__(self,other):\n",
        "    result = self.number - other.number\n",
        "    if result <= -1:\n",
        "      result = 0\n",
        "    return 'C('+str(result)+')'  \n",
        "  def reset(self):\n",
        "    self.number = 0    \n",
        "c1 = Counter(10)    \n",
        "c1.inc()\n",
        "print('c1 = ',c1)\n",
        "c2 = Counter()\n",
        "c2.inc()\n",
        "c2.inc()\n",
        "c2.dec()\n",
        "print('c2 = ',c2)\n",
        "c2.reset()\n",
        "print('c2 = ',c2)\n",
        "\n",
        "c2 = Counter(20)\n",
        "c1 = Counter(10)\n",
        "c3 = c1 + c2\n",
        "c4 = c1 - c2\n",
        "print('c3 = ',c3)\n",
        "print('c4 = ',c4)"
      ],
      "metadata": {
        "id": "dJmsQmGHRK9d",
        "colab": {
          "base_uri": "https://localhost:8080/"
        },
        "outputId": "f3b7f42d-f904-4f0b-a39a-9e8ba5d60f96"
      },
      "execution_count": null,
      "outputs": [
        {
          "output_type": "stream",
          "name": "stdout",
          "text": [
            "c1 =  C(11)\n",
            "c2 =  C(1)\n",
            "c2 =  C(0)\n",
            "c3 =  C(30)\n",
            "c4 =  C(0)\n"
          ]
        }
      ]
    },
    {
      "cell_type": "code",
      "source": [
        "#EX3\n",
        "\n",
        "class BankAccount:\n",
        "  def __init__(self,name,account_num,balance = 0):\n",
        "    self.name = name\n",
        "    self.account_num = account_num\n",
        "    self.balance = balance\n",
        "  def __str__(self):\n",
        "    return self.name + '님의 계좌 '+self.account_num+'의 잔고는 '+str(self.balance)+'원 입니다.'\n",
        "\n",
        "  def get_name(self):\n",
        "    return self.name    \n",
        "  def get_account_num(self):  \n",
        "    return self.account_num\n",
        "  def get_balance(self):\n",
        "    return self.balance\n",
        "  def deposit(self,money):\n",
        "    self.balance = self.balance + money   \n",
        "  def withdraw(self,money):\n",
        "    if(self.balance < money):\n",
        "      return '계좌 잔고는 '+ str(self.balance) +'원으로 인출요구 금액 '+ str(money) + '원보다 작습니다'\n",
        "    else:\n",
        "      self.balance = self.balance - money  \n",
        "   \n",
        "account1 = BankAccount('홍길동','1234-0001')\n",
        "print(account1)\n",
        "\n",
        "account1.deposit(2000)\n",
        "print(account1)\n",
        "\n",
        "account1.withdraw(500)\n",
        "print(account1)\n",
        "account1.withdraw(5000)"
      ],
      "metadata": {
        "colab": {
          "base_uri": "https://localhost:8080/",
          "height": 92
        },
        "id": "g7_h1uPq_HLc",
        "outputId": "cc84813b-db43-46ec-facf-5c6cd8fec006"
      },
      "execution_count": null,
      "outputs": [
        {
          "output_type": "stream",
          "name": "stdout",
          "text": [
            "홍길동님의 계좌 1234-0001의 잔고는 0원 입니다.\n",
            "홍길동님의 계좌 1234-0001의 잔고는 2000원 입니다.\n",
            "홍길동님의 계좌 1234-0001의 잔고는 1500원 입니다.\n"
          ]
        },
        {
          "output_type": "execute_result",
          "data": {
            "text/plain": [
              "'계좌 잔고는 1500원으로 인출요구 금액 5000원보다 작습니다'"
            ],
            "application/vnd.google.colaboratory.intrinsic+json": {
              "type": "string"
            }
          },
          "metadata": {},
          "execution_count": 42
        }
      ]
    },
    {
      "cell_type": "code",
      "source": [
        "#EX4\n",
        "\n",
        "class Student:\n",
        "\n",
        "  def __init__(self,name,studentid,koreanquiz=0,mathquiz=0,sciencequiz=0,totalscore=0):\n",
        "    self.name = name\n",
        "    self.studentid = studentid\n",
        "    self.koreanquiz = koreanquiz\n",
        "    self.mathquiz = mathquiz\n",
        "    self.sciencequiz = sciencequiz\n",
        "    self.totalscore = self.koreanquiz + self.mathquiz + self.sciencequiz\n",
        "    self.avgscore = 0\n",
        "\n",
        "  def __str__(self):\n",
        "    return '이름:'+self.name+', 학번:'+self.studentid+'\\n'+'국어성적:'+str(self.koreanquiz)+', 수학성적:'+str(self.mathquiz) +', 과학성적:' + str(self.sciencequiz) + '\\n'  +'합계:' + str(self.totalscore) + ', 평균:' + str(self.avgscore)\n",
        "  def set_koreanquiz(self,num):\n",
        "    self.koreanquiz = num \n",
        "  def set_mathquiz(self,num):\n",
        "    self.mathquiz = num \n",
        "  def set_sciencequiz(self,num):\n",
        "    self.sciencequiz = num \n",
        "  def get_koreanquiz(self):\n",
        "    return self.koreanquiz\n",
        "  def get_mathquiz(self):\n",
        "    return self.mathquiz\n",
        "  def get_sciencequiz(self):\n",
        "    return self.sciencequiz  \n",
        "\n",
        "  def get_totalscore(self):\n",
        "    self.totalscore = self.koreanquiz + self.mathquiz + self.sciencequiz\n",
        "    return self.totalscore\n",
        "  def get_avgscore(self):\n",
        "    self.avgscore = self.totalscore/3\n",
        "    return self.avgscore  \n",
        "     \n",
        "name = input('학생의 이름을 입력하시오 ')\n",
        "student_id = input('학생의 학번을 입력하시오 ')\n",
        "\n",
        "student = Student(name,student_id)\n",
        "koreanquiz = int(input('학생의 국어성적 입력'))\n",
        "mathquiz = int(input('학생의 수학성적 입력'))\n",
        "sciencequiz = int(input('학생의 과학성적 입력'))\n",
        "\n",
        "student.set_koreanquiz(koreanquiz)\n",
        "student.set_mathquiz(mathquiz)\n",
        "student.set_sciencequiz(sciencequiz)\n",
        "\n",
        "student.get_totalscore()\n",
        "student.get_avgscore()\n",
        "\n",
        "print(student)  \n"
      ],
      "metadata": {
        "id": "NsFviYlXQv-Z"
      },
      "execution_count": null,
      "outputs": []
    },
    {
      "cell_type": "code",
      "source": [
        "#EX5\n",
        "\n",
        "class TV:\n",
        "  MIN_VOLUMN = 0\n",
        "  MAX_VOLUMN = 20\n",
        "  MIN_CHANNEL = 0\n",
        "  MAX_CHANNEL = 200\n",
        "#volumn =5,channel = 0,ison = False\n",
        "  def __init__(self):\n",
        "    self.volumn = 5\n",
        "    self.channel = 0\n",
        "    self.ison = False\n",
        "  def __str__(self):\n",
        "    if self.ison == False:\n",
        "      return 'TV가 꺼짐 상태입니다'\n",
        "    else:\n",
        "      return '볼륨 = ' + str(self.volumn) + ', 채널 = ' + str(self.channel)  \n",
        "  def togglepower(self):\n",
        "    self.ison = not self.ison\n",
        "    #print(self.ison)\n",
        "  def getvolumn(self):\n",
        "    return self.volumn\n",
        "  def setvolumn(self,choice):\n",
        "    if choice < TV.MIN_VOLUMN or choice > TV.MAX_VOLUMN:\n",
        "      print('볼륨오류')\n",
        "    else:\n",
        "      self.volumn = choice\n",
        "  def getchannel(self):\n",
        "    return self.channel\n",
        "  def setchannel(self,choice):\n",
        "    if choice <TV.MIN_CHANNEL or choice >TV.MAX_CHANNEL:\n",
        "      print('채널오류')\n",
        "    else:\n",
        "      self.channel = choice\n",
        "  def volumnup(self):\n",
        "    self.volumn +=1\n",
        "    if self.volumn > TV.MAX_VOLUMN:\n",
        "      self.volumn = TV.MAX_VOLUMN\n",
        "  def volumndown(self):\n",
        "    self.volumn -=1\n",
        "    if self.volumn > TV.MIN_VOLUMN:\n",
        "      self.volumn = TV.MIN_VOLUMN\n",
        "  def channelup(self):                \n",
        "    self.channel +=1\n",
        "    if self.channel > TV.MAX_CHANNEL:\n",
        "      self.channel = TV.MIN_CHANNEL\n",
        "  def channeldown(self):                \n",
        "    self.channel -=1\n",
        "    if self.channel < TV.MIN_CHANNEL:\n",
        "      self.channel = TV.MAX_CHANNEL   \n",
        "\n",
        "my_tv = TV()\n",
        "print(my_tv)\n",
        "my_tv.togglepower()\n",
        "print(my_tv)\n",
        "my_tv.setchannel(200)\n",
        "print(my_tv)\n",
        "my_tv.volumnup()\n",
        "my_tv.channelup()\n",
        "print(my_tv)"
      ],
      "metadata": {
        "colab": {
          "base_uri": "https://localhost:8080/"
        },
        "id": "_ZGnsKg7fvdw",
        "outputId": "1e7869b1-c96f-43ae-b4b0-ea4e4888808e"
      },
      "execution_count": null,
      "outputs": [
        {
          "output_type": "stream",
          "name": "stdout",
          "text": [
            "TV가 꺼짐 상태입니다\n",
            "볼륨 = 5, 채널 = 0\n",
            "볼륨 = 5, 채널 = 200\n",
            "볼륨 = 6, 채널 = 0\n"
          ]
        }
      ]
    },
    {
      "cell_type": "code",
      "source": [
        "animals = ['lion', 'tiger','cat','dog']\n",
        "\n",
        "animals.sort()\n",
        "\n",
        "print(animals)\n",
        "\n",
        "\n",
        "animals.append('rabbit')\n",
        "print(animals)\n",
        "\n",
        "\n",
        "animals.reverse()\n",
        "print(animals)\n"
      ],
      "metadata": {
        "colab": {
          "base_uri": "https://localhost:8080/"
        },
        "id": "ywQSAvxXDwn6",
        "outputId": "29222b6a-be32-46f2-c8f9-20d15336778b"
      },
      "execution_count": null,
      "outputs": [
        {
          "output_type": "stream",
          "name": "stdout",
          "text": [
            "['cat', 'dog', 'lion', 'tiger']\n",
            "['cat', 'dog', 'lion', 'tiger', 'rabbit']\n",
            "['rabbit', 'tiger', 'lion', 'dog', 'cat']\n"
          ]
        }
      ]
    },
    {
      "cell_type": "code",
      "source": [
        "animals = ['lion', 'tiger','cat','dog']\n",
        "\n",
        "type(animals)\n",
        "\n",
        "id(animals)\n",
        "\n",
        "s = 'lion'\n",
        "t = 'tiger'\n",
        "type(s)\n",
        "\n",
        "print(id(s),    id(t) )\n",
        "\n",
        "\n"
      ],
      "metadata": {
        "colab": {
          "base_uri": "https://localhost:8080/"
        },
        "id": "r33TXV7PHM7y",
        "outputId": "0e1a1c6b-e904-432e-84ef-b553f720c4ae"
      },
      "execution_count": null,
      "outputs": [
        {
          "output_type": "stream",
          "name": "stdout",
          "text": [
            "140441160983408 140441160985520\n"
          ]
        }
      ]
    }
  ]
}